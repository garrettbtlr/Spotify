{
 "cells": [
  {
   "cell_type": "markdown",
   "id": "af6138cd-df47-4fbf-847c-6e44e87b06b3",
   "metadata": {},
   "source": [
    "# DATA COLLECTION\n",
    "\n",
    "Using Spotify's API to extract song data."
   ]
  },
  {
   "cell_type": "markdown",
   "id": "50c1234d-af22-4346-b58c-e6c0b5d65038",
   "metadata": {},
   "source": [
    "Retrieving Track Ids of Liked Songs:"
   ]
  },
  {
   "cell_type": "code",
   "execution_count": 2,
   "id": "f4b82114-404e-446b-9c9a-5de88d478928",
   "metadata": {},
   "outputs": [],
   "source": [
    "import requests"
   ]
  },
  {
   "cell_type": "code",
   "execution_count": 3,
   "id": "c44b4cd0-7bc2-461a-8bf1-42a64569576a",
   "metadata": {},
   "outputs": [],
   "source": [
    "playlistId = '3QaFFTM6vLj0lEgg78lXT6'"
   ]
  },
  {
   "cell_type": "code",
   "execution_count": 5,
   "id": "bf4aa091-00a6-4c52-9035-3e006795be57",
   "metadata": {},
   "outputs": [
    {
     "ename": "NameError",
     "evalue": "name 'headers' is not defined",
     "output_type": "error",
     "traceback": [
      "\u001b[0;31m---------------------------------------------------------------------------\u001b[0m",
      "\u001b[0;31mNameError\u001b[0m                                 Traceback (most recent call last)",
      "\u001b[0;32m/var/folders/mt/s8snq1k10wn8_8mxwvmr2pgw0000gn/T/ipykernel_51900/3936824360.py\u001b[0m in \u001b[0;36m<cell line: 3>\u001b[0;34m()\u001b[0m\n\u001b[1;32m      1\u001b[0m \u001b[0;31m# GET request:\u001b[0m\u001b[0;34m\u001b[0m\u001b[0;34m\u001b[0m\u001b[0m\n\u001b[1;32m      2\u001b[0m \u001b[0;34m\u001b[0m\u001b[0m\n\u001b[0;32m----> 3\u001b[0;31m \u001b[0mresponse\u001b[0m \u001b[0;34m=\u001b[0m \u001b[0mrequests\u001b[0m\u001b[0;34m.\u001b[0m\u001b[0mget\u001b[0m\u001b[0;34m(\u001b[0m\u001b[0;34m\"https://api.spotify.com/v1/playlists/{}/tracks\"\u001b[0m\u001b[0;34m.\u001b[0m\u001b[0mformat\u001b[0m\u001b[0;34m(\u001b[0m\u001b[0mplaylistId\u001b[0m\u001b[0;34m)\u001b[0m\u001b[0;34m,\u001b[0m \u001b[0mheaders\u001b[0m\u001b[0;34m=\u001b[0m\u001b[0mheaders\u001b[0m\u001b[0;34m)\u001b[0m\u001b[0;34m\u001b[0m\u001b[0;34m\u001b[0m\u001b[0m\n\u001b[0m",
      "\u001b[0;31mNameError\u001b[0m: name 'headers' is not defined"
     ]
    }
   ],
   "source": [
    "# GET request:\n",
    "headers = \n",
    "response = requests.get(\"https://api.spotify.com/v1/playlists/{}/tracks\".format(playlistId), headers=headers)\n"
   ]
  },
  {
   "cell_type": "code",
   "execution_count": null,
   "id": "0edb891c-2eed-4a9a-970c-3e4b93768cff",
   "metadata": {},
   "outputs": [],
   "source": []
  }
 ],
 "metadata": {
  "kernelspec": {
   "display_name": "Python 3 (ipykernel)",
   "language": "python",
   "name": "python3"
  },
  "language_info": {
   "codemirror_mode": {
    "name": "ipython",
    "version": 3
   },
   "file_extension": ".py",
   "mimetype": "text/x-python",
   "name": "python",
   "nbconvert_exporter": "python",
   "pygments_lexer": "ipython3",
   "version": "3.9.10"
  }
 },
 "nbformat": 4,
 "nbformat_minor": 5
}
