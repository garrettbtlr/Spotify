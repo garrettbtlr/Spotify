{
 "cells": [
  {
   "cell_type": "markdown",
   "id": "af6138cd-df47-4fbf-847c-6e44e87b06b3",
   "metadata": {},
   "source": [
    "# DATA COLLECTION\n",
    "\n",
    "Using Spotify's API to extract song data."
   ]
  },
  {
   "cell_type": "code",
   "execution_count": null,
   "id": "11d21e24-aedd-4d80-810d-a046b8a95119",
   "metadata": {},
   "outputs": [],
   "source": []
  }
 ],
 "metadata": {
  "kernelspec": {
   "display_name": "Python 3 (ipykernel)",
   "language": "python",
   "name": "python3"
  },
  "language_info": {
   "codemirror_mode": {
    "name": "ipython",
    "version": 3
   },
   "file_extension": ".py",
   "mimetype": "text/x-python",
   "name": "python",
   "nbconvert_exporter": "python",
   "pygments_lexer": "ipython3",
   "version": "3.9.10"
  }
 },
 "nbformat": 4,
 "nbformat_minor": 5
}
