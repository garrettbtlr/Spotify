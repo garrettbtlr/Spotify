{
 "cells": [
  {
   "cell_type": "markdown",
   "id": "af6138cd-df47-4fbf-847c-6e44e87b06b3",
   "metadata": {},
   "source": [
    "# DATA COLLECTION\n",
    "\n",
    "Using Twitter's API to extract tweets and conduct a sentiment analysis."
   ]
  },
  {
   "cell_type": "markdown",
   "id": "50c1234d-af22-4346-b58c-e6c0b5d65038",
   "metadata": {},
   "source": [
    "Relevant Imports:"
   ]
  },
  {
   "cell_type": "code",
   "execution_count": 15,
   "id": "f4b82114-404e-446b-9c9a-5de88d478928",
   "metadata": {},
   "outputs": [],
   "source": [
    "import configparser\n",
    "import pandas\n",
    "import tweepy\n",
    "from tweepy import OAuthHandler\n",
    "from tweepy import API\n",
    "from tweepy import Stream"
   ]
  },
  {
   "cell_type": "markdown",
   "id": "d703c0c3-8518-48af-9948-dc7c0ed3687e",
   "metadata": {},
   "source": [
    "Authentification:"
   ]
  },
  {
   "cell_type": "code",
   "execution_count": 28,
   "id": "6c230800-98b0-4926-b1f6-80e4b0883ba4",
   "metadata": {},
   "outputs": [],
   "source": [
    "# Accessing authentification data stored in a config.ini file\n",
    "config = configparser.ConfigParser()\n",
    "config.read('config.ini')\n",
    "consumer_key = config['twitter']['consumer_key']\n",
    "consumer_secret = config['twitter']['consumer_secret']\n",
    "access_token = config['twitter']['access_token']\n",
    "access_token_secret = config['twitter']['access_token_secret']\n",
    "\n",
    "# Authentification\n",
    "auth = OAuthHandler(consumer_key, consumer_secret)\n",
    "auth.set_access_token(access_token, access_token_secret)\n",
    "\n",
    "# Setting up the API with the authentication handler\n",
    "api = API(auth)"
   ]
  },
  {
   "cell_type": "code",
   "execution_count": 66,
   "id": "e7c10265-b105-4975-a617-0a6af5aa6f47",
   "metadata": {},
   "outputs": [],
   "source": [
    "# search tweets\n",
    "keywords = ['Chelsea', 'Graham Potter']\n",
    "tweets = api.search_tweets(q=keywords)"
   ]
  }
 ],
 "metadata": {
  "kernelspec": {
   "display_name": "Python 3 (ipykernel)",
   "language": "python",
   "name": "python3"
  },
  "language_info": {
   "codemirror_mode": {
    "name": "ipython",
    "version": 3
   },
   "file_extension": ".py",
   "mimetype": "text/x-python",
   "name": "python",
   "nbconvert_exporter": "python",
   "pygments_lexer": "ipython3",
   "version": "3.9.12"
  }
 },
 "nbformat": 4,
 "nbformat_minor": 5
}
